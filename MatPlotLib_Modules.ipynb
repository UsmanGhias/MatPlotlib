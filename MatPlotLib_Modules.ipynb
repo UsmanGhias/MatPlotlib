{
 "cells": [
  {
   "cell_type": "markdown",
   "id": "eb11b323-f7f2-45cd-81dc-f026743005ec",
   "metadata": {},
   "source": [
    "# <center> Matplotlib & Pandas & Numpy"
   ]
  },
  {
   "cell_type": "markdown",
   "id": "067b4eec-ccde-429d-9e2e-fa006187a502",
   "metadata": {},
   "source": [
    "##### Matplotlib is a Python 2D plotting library that produces high-quality charts and figures, which helps us visualize extensive data to understand better."
   ]
  },
  {
   "cell_type": "markdown",
   "id": "c6f78148-6b5d-4d1e-adae-ed0ccc9ae339",
   "metadata": {},
   "source": [
    "#### Load Libraries"
   ]
  },
  {
   "cell_type": "code",
   "execution_count": 3,
   "id": "90f9e3ff-0ed2-4612-8d89-db63348f2933",
   "metadata": {},
   "outputs": [],
   "source": [
    "import matplotlib.pyplot as plt\n",
    "import numpy as np\n",
    "import pandas as pd"
   ]
  },
  {
   "cell_type": "markdown",
   "id": "a50bd137-7ca7-49e3-8fbc-d6f5ae82af64",
   "metadata": {},
   "source": [
    "#### Basic Graph"
   ]
  },
  {
   "cell_type": "code",
   "execution_count": null,
   "id": "0e3b9bde-d100-41b0-9c82-3b0acafc3f2d",
   "metadata": {},
   "outputs": [],
   "source": [
    "x = [0,1,2,3,4]\n",
    "y = [0,2,4,6,8]\n",
    "\n",
    "# Resize your Graph (dpi specifies pixels per inch. When saving probably should use 300 if possible)\n",
    "plt.figure(figsize=(8,5), dpi=100)\n",
    "\n",
    "# Line 1\n",
    "\n",
    "# Keyword Argument Notation\n",
    "#plt.plot(x,y, label='2x', color='red', linewidth=2, marker='.', linestyle='--', markersize=10, markeredgecolor='blue')\n",
    "\n",
    "# Shorthand notation\n",
    "# fmt = '[color][marker][line]'\n",
    "plt.plot(x,y, 'b^--', label='2x')\n",
    "\n",
    "## Line 2\n",
    "\n",
    "# select interval we want to plot points at\n",
    "x2 = np.arange(0,4.5,0.5)\n",
    "\n",
    "# Plot part of the graph as line\n",
    "plt.plot(x2[:6], x2[:6]**2, 'r', label='X^2')\n",
    "\n",
    "# Plot remainder of graph as a dot\n",
    "plt.plot(x2[5:], x2[5:]**2, 'r--')\n",
    "\n",
    "# Add a title (specify font parameters with fontdict)\n",
    "plt.title('Our First Graph!', fontdict={'fontname': 'Comic Sans MS', 'fontsize': 20})\n",
    "\n",
    "# X and Y labels\n",
    "plt.xlabel('X Axis')\n",
    "plt.ylabel('Y Axis')\n",
    "\n",
    "# X, Y axis Tickmarks (scale of your graph)\n",
    "plt.xticks([0,1,2,3,4,])\n",
    "#plt.yticks([0,2,4,6,8,10])\n",
    "\n",
    "# Add a legend\n",
    "plt.legend()\n",
    "\n",
    "# Save figure (dpi 300 is good when saving so graph has high resolution)\n",
    "plt.savefig('mygraph.png', dpi=300)\n"
   ]
  },
  {
   "cell_type": "code",
   "execution_count": null,
   "id": "ad4c1ae3-56da-4d4b-9d03-c3024fb23323",
   "metadata": {},
   "outputs": [],
   "source": []
  },
  {
   "cell_type": "code",
   "execution_count": null,
   "id": "c3573cd6-07bf-4f04-8470-f9a9fad4bb0e",
   "metadata": {},
   "outputs": [],
   "source": []
  },
  {
   "cell_type": "code",
   "execution_count": null,
   "id": "71844edc-e628-4e8a-b772-59998048bd43",
   "metadata": {},
   "outputs": [],
   "source": []
  },
  {
   "cell_type": "code",
   "execution_count": null,
   "id": "3401a7fd-923a-4d5f-94c0-d39a1951e49a",
   "metadata": {},
   "outputs": [],
   "source": []
  },
  {
   "cell_type": "code",
   "execution_count": null,
   "id": "2fd0dd60-3fbd-4233-b5ca-2c691dfa0723",
   "metadata": {},
   "outputs": [],
   "source": []
  },
  {
   "cell_type": "code",
   "execution_count": null,
   "id": "14883b19-a7c1-4ecd-9fde-9506806cda26",
   "metadata": {},
   "outputs": [],
   "source": []
  },
  {
   "cell_type": "code",
   "execution_count": null,
   "id": "85ae30a2-37cb-467a-8100-ad08844001a3",
   "metadata": {},
   "outputs": [],
   "source": []
  },
  {
   "cell_type": "code",
   "execution_count": null,
   "id": "b4b3c5f1-f6f0-4e2c-b759-e4a43795bd66",
   "metadata": {},
   "outputs": [],
   "source": []
  },
  {
   "cell_type": "code",
   "execution_count": null,
   "id": "d0d5eace-57d4-44a9-80b7-195b2b1b0d3f",
   "metadata": {},
   "outputs": [],
   "source": []
  },
  {
   "cell_type": "code",
   "execution_count": null,
   "id": "ad5a9bb7-7eaf-48f3-aa69-36d5f1e96ec8",
   "metadata": {},
   "outputs": [],
   "source": []
  },
  {
   "cell_type": "code",
   "execution_count": null,
   "id": "72c3e570-1a35-4901-9be0-c2d1e2532565",
   "metadata": {},
   "outputs": [],
   "source": []
  },
  {
   "cell_type": "code",
   "execution_count": null,
   "id": "e8e0a0cc-7bf4-4187-a009-fc5639f607d2",
   "metadata": {},
   "outputs": [],
   "source": []
  }
 ],
 "metadata": {
  "kernelspec": {
   "display_name": "Python 3 (ipykernel)",
   "language": "python",
   "name": "python3"
  },
  "language_info": {
   "codemirror_mode": {
    "name": "ipython",
    "version": 3
   },
   "file_extension": ".py",
   "mimetype": "text/x-python",
   "name": "python",
   "nbconvert_exporter": "python",
   "pygments_lexer": "ipython3",
   "version": "3.11.5"
  }
 },
 "nbformat": 4,
 "nbformat_minor": 5
}
